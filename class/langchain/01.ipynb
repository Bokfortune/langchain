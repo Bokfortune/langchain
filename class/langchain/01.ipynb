{
 "cells": [
  {
   "cell_type": "markdown",
   "id": "e0b4e7bb",
   "metadata": {},
   "source": [
    "Langchain을 활용한 모델 사용, 비용 모니터잉 및 캐싱 전략\n",
    "  - GPT-4o-mini  GPT-3.5-Turbo 비용이 60% 저렴\n",
    "  - Langchain V3.0x 부터 openai 가 별도 패키지로 분리 필요 패키지를 설치 langchain-openai 필요\n",
    "  - 토큰 사용량 추적, 캐싱을 위한 langchain-community 도 별도 설치\n",
    "  - 환경 변수 관리 패키지 python-dotenv"
   ]
  },
  {
   "cell_type": "code",
   "execution_count": 4,
   "id": "3a0103a1",
   "metadata": {},
   "outputs": [
    {
     "name": "stdout",
     "output_type": "stream",
     "text": [
      "Requirement already satisfied: langchain-openai in c:\\users\\bokji\\miniconda3\\envs\\class_gpu\\lib\\site-packages (0.3.18)\n",
      "Requirement already satisfied: langchain-community in c:\\users\\bokji\\miniconda3\\envs\\class_gpu\\lib\\site-packages (0.3.24)\n",
      "Requirement already satisfied: python-dotenv in c:\\users\\bokji\\miniconda3\\envs\\class_gpu\\lib\\site-packages (1.1.0)\n",
      "Requirement already satisfied: openai in c:\\users\\bokji\\miniconda3\\envs\\class_gpu\\lib\\site-packages (1.82.0)\n",
      "Requirement already satisfied: langchain-core<1.0.0,>=0.3.61 in c:\\users\\bokji\\miniconda3\\envs\\class_gpu\\lib\\site-packages (from langchain-openai) (0.3.61)\n",
      "Requirement already satisfied: tiktoken<1,>=0.7 in c:\\users\\bokji\\miniconda3\\envs\\class_gpu\\lib\\site-packages (from langchain-openai) (0.9.0)\n",
      "Requirement already satisfied: anyio<5,>=3.5.0 in c:\\users\\bokji\\miniconda3\\envs\\class_gpu\\lib\\site-packages (from openai) (4.9.0)\n",
      "Requirement already satisfied: distro<2,>=1.7.0 in c:\\users\\bokji\\miniconda3\\envs\\class_gpu\\lib\\site-packages (from openai) (1.9.0)\n",
      "Requirement already satisfied: httpx<1,>=0.23.0 in c:\\users\\bokji\\miniconda3\\envs\\class_gpu\\lib\\site-packages (from openai) (0.28.1)\n",
      "Requirement already satisfied: jiter<1,>=0.4.0 in c:\\users\\bokji\\miniconda3\\envs\\class_gpu\\lib\\site-packages (from openai) (0.10.0)\n",
      "Requirement already satisfied: pydantic<3,>=1.9.0 in c:\\users\\bokji\\miniconda3\\envs\\class_gpu\\lib\\site-packages (from openai) (2.11.4)\n",
      "Requirement already satisfied: sniffio in c:\\users\\bokji\\miniconda3\\envs\\class_gpu\\lib\\site-packages (from openai) (1.3.1)\n",
      "Requirement already satisfied: tqdm>4 in c:\\users\\bokji\\miniconda3\\envs\\class_gpu\\lib\\site-packages (from openai) (4.67.1)\n",
      "Requirement already satisfied: typing-extensions<5,>=4.11 in c:\\users\\bokji\\miniconda3\\envs\\class_gpu\\lib\\site-packages (from openai) (4.13.2)\n",
      "Requirement already satisfied: exceptiongroup>=1.0.2 in c:\\users\\bokji\\miniconda3\\envs\\class_gpu\\lib\\site-packages (from anyio<5,>=3.5.0->openai) (1.3.0)\n",
      "Requirement already satisfied: idna>=2.8 in c:\\users\\bokji\\miniconda3\\envs\\class_gpu\\lib\\site-packages (from anyio<5,>=3.5.0->openai) (3.10)\n",
      "Requirement already satisfied: certifi in c:\\users\\bokji\\miniconda3\\envs\\class_gpu\\lib\\site-packages (from httpx<1,>=0.23.0->openai) (2025.4.26)\n",
      "Requirement already satisfied: httpcore==1.* in c:\\users\\bokji\\miniconda3\\envs\\class_gpu\\lib\\site-packages (from httpx<1,>=0.23.0->openai) (1.0.9)\n",
      "Requirement already satisfied: h11>=0.16 in c:\\users\\bokji\\miniconda3\\envs\\class_gpu\\lib\\site-packages (from httpcore==1.*->httpx<1,>=0.23.0->openai) (0.16.0)\n",
      "Requirement already satisfied: langsmith<0.4,>=0.1.126 in c:\\users\\bokji\\miniconda3\\envs\\class_gpu\\lib\\site-packages (from langchain-core<1.0.0,>=0.3.61->langchain-openai) (0.3.42)\n",
      "Requirement already satisfied: tenacity!=8.4.0,<10.0.0,>=8.1.0 in c:\\users\\bokji\\miniconda3\\envs\\class_gpu\\lib\\site-packages (from langchain-core<1.0.0,>=0.3.61->langchain-openai) (9.1.2)\n",
      "Requirement already satisfied: jsonpatch<2.0,>=1.33 in c:\\users\\bokji\\miniconda3\\envs\\class_gpu\\lib\\site-packages (from langchain-core<1.0.0,>=0.3.61->langchain-openai) (1.33)\n",
      "Requirement already satisfied: PyYAML>=5.3 in c:\\users\\bokji\\miniconda3\\envs\\class_gpu\\lib\\site-packages (from langchain-core<1.0.0,>=0.3.61->langchain-openai) (6.0.2)\n",
      "Requirement already satisfied: packaging<25,>=23.2 in c:\\users\\bokji\\miniconda3\\envs\\class_gpu\\lib\\site-packages (from langchain-core<1.0.0,>=0.3.61->langchain-openai) (24.2)\n",
      "Requirement already satisfied: jsonpointer>=1.9 in c:\\users\\bokji\\miniconda3\\envs\\class_gpu\\lib\\site-packages (from jsonpatch<2.0,>=1.33->langchain-core<1.0.0,>=0.3.61->langchain-openai) (3.0.0)\n",
      "Requirement already satisfied: orjson<4.0.0,>=3.9.14 in c:\\users\\bokji\\miniconda3\\envs\\class_gpu\\lib\\site-packages (from langsmith<0.4,>=0.1.126->langchain-core<1.0.0,>=0.3.61->langchain-openai) (3.10.18)\n",
      "Requirement already satisfied: requests<3,>=2 in c:\\users\\bokji\\miniconda3\\envs\\class_gpu\\lib\\site-packages (from langsmith<0.4,>=0.1.126->langchain-core<1.0.0,>=0.3.61->langchain-openai) (2.32.3)\n",
      "Requirement already satisfied: requests-toolbelt<2.0.0,>=1.0.0 in c:\\users\\bokji\\miniconda3\\envs\\class_gpu\\lib\\site-packages (from langsmith<0.4,>=0.1.126->langchain-core<1.0.0,>=0.3.61->langchain-openai) (1.0.0)\n",
      "Requirement already satisfied: zstandard<0.24.0,>=0.23.0 in c:\\users\\bokji\\miniconda3\\envs\\class_gpu\\lib\\site-packages (from langsmith<0.4,>=0.1.126->langchain-core<1.0.0,>=0.3.61->langchain-openai) (0.23.0)\n",
      "Requirement already satisfied: annotated-types>=0.6.0 in c:\\users\\bokji\\miniconda3\\envs\\class_gpu\\lib\\site-packages (from pydantic<3,>=1.9.0->openai) (0.7.0)\n",
      "Requirement already satisfied: pydantic-core==2.33.2 in c:\\users\\bokji\\miniconda3\\envs\\class_gpu\\lib\\site-packages (from pydantic<3,>=1.9.0->openai) (2.33.2)\n",
      "Requirement already satisfied: typing-inspection>=0.4.0 in c:\\users\\bokji\\miniconda3\\envs\\class_gpu\\lib\\site-packages (from pydantic<3,>=1.9.0->openai) (0.4.0)\n",
      "Requirement already satisfied: charset-normalizer<4,>=2 in c:\\users\\bokji\\miniconda3\\envs\\class_gpu\\lib\\site-packages (from requests<3,>=2->langsmith<0.4,>=0.1.126->langchain-core<1.0.0,>=0.3.61->langchain-openai) (3.4.2)\n",
      "Requirement already satisfied: urllib3<3,>=1.21.1 in c:\\users\\bokji\\miniconda3\\envs\\class_gpu\\lib\\site-packages (from requests<3,>=2->langsmith<0.4,>=0.1.126->langchain-core<1.0.0,>=0.3.61->langchain-openai) (2.4.0)\n",
      "Requirement already satisfied: regex>=2022.1.18 in c:\\users\\bokji\\miniconda3\\envs\\class_gpu\\lib\\site-packages (from tiktoken<1,>=0.7->langchain-openai) (2024.11.6)\n",
      "Requirement already satisfied: langchain<1.0.0,>=0.3.25 in c:\\users\\bokji\\miniconda3\\envs\\class_gpu\\lib\\site-packages (from langchain-community) (0.3.25)\n",
      "Requirement already satisfied: SQLAlchemy<3,>=1.4 in c:\\users\\bokji\\miniconda3\\envs\\class_gpu\\lib\\site-packages (from langchain-community) (2.0.41)\n",
      "Requirement already satisfied: aiohttp<4.0.0,>=3.8.3 in c:\\users\\bokji\\miniconda3\\envs\\class_gpu\\lib\\site-packages (from langchain-community) (3.11.18)\n",
      "Requirement already satisfied: dataclasses-json<0.7,>=0.5.7 in c:\\users\\bokji\\miniconda3\\envs\\class_gpu\\lib\\site-packages (from langchain-community) (0.6.7)\n",
      "Requirement already satisfied: pydantic-settings<3.0.0,>=2.4.0 in c:\\users\\bokji\\miniconda3\\envs\\class_gpu\\lib\\site-packages (from langchain-community) (2.9.1)\n",
      "Requirement already satisfied: httpx-sse<1.0.0,>=0.4.0 in c:\\users\\bokji\\miniconda3\\envs\\class_gpu\\lib\\site-packages (from langchain-community) (0.4.0)\n",
      "Requirement already satisfied: numpy>=1.26.2 in c:\\users\\bokji\\miniconda3\\envs\\class_gpu\\lib\\site-packages (from langchain-community) (2.2.6)\n",
      "Requirement already satisfied: aiohappyeyeballs>=2.3.0 in c:\\users\\bokji\\miniconda3\\envs\\class_gpu\\lib\\site-packages (from aiohttp<4.0.0,>=3.8.3->langchain-community) (2.6.1)\n",
      "Requirement already satisfied: aiosignal>=1.1.2 in c:\\users\\bokji\\miniconda3\\envs\\class_gpu\\lib\\site-packages (from aiohttp<4.0.0,>=3.8.3->langchain-community) (1.3.2)\n",
      "Requirement already satisfied: async-timeout<6.0,>=4.0 in c:\\users\\bokji\\miniconda3\\envs\\class_gpu\\lib\\site-packages (from aiohttp<4.0.0,>=3.8.3->langchain-community) (4.0.3)\n",
      "Requirement already satisfied: attrs>=17.3.0 in c:\\users\\bokji\\miniconda3\\envs\\class_gpu\\lib\\site-packages (from aiohttp<4.0.0,>=3.8.3->langchain-community) (25.3.0)\n",
      "Requirement already satisfied: frozenlist>=1.1.1 in c:\\users\\bokji\\miniconda3\\envs\\class_gpu\\lib\\site-packages (from aiohttp<4.0.0,>=3.8.3->langchain-community) (1.6.0)\n",
      "Requirement already satisfied: multidict<7.0,>=4.5 in c:\\users\\bokji\\miniconda3\\envs\\class_gpu\\lib\\site-packages (from aiohttp<4.0.0,>=3.8.3->langchain-community) (6.4.3)\n",
      "Requirement already satisfied: propcache>=0.2.0 in c:\\users\\bokji\\miniconda3\\envs\\class_gpu\\lib\\site-packages (from aiohttp<4.0.0,>=3.8.3->langchain-community) (0.3.1)\n",
      "Requirement already satisfied: yarl<2.0,>=1.17.0 in c:\\users\\bokji\\miniconda3\\envs\\class_gpu\\lib\\site-packages (from aiohttp<4.0.0,>=3.8.3->langchain-community) (1.20.0)\n",
      "Requirement already satisfied: marshmallow<4.0.0,>=3.18.0 in c:\\users\\bokji\\miniconda3\\envs\\class_gpu\\lib\\site-packages (from dataclasses-json<0.7,>=0.5.7->langchain-community) (3.26.1)\n",
      "Requirement already satisfied: typing-inspect<1,>=0.4.0 in c:\\users\\bokji\\miniconda3\\envs\\class_gpu\\lib\\site-packages (from dataclasses-json<0.7,>=0.5.7->langchain-community) (0.9.0)\n",
      "Requirement already satisfied: langchain-text-splitters<1.0.0,>=0.3.8 in c:\\users\\bokji\\miniconda3\\envs\\class_gpu\\lib\\site-packages (from langchain<1.0.0,>=0.3.25->langchain-community) (0.3.8)\n",
      "Requirement already satisfied: greenlet>=1 in c:\\users\\bokji\\miniconda3\\envs\\class_gpu\\lib\\site-packages (from SQLAlchemy<3,>=1.4->langchain-community) (3.2.2)\n",
      "Requirement already satisfied: mypy-extensions>=0.3.0 in c:\\users\\bokji\\miniconda3\\envs\\class_gpu\\lib\\site-packages (from typing-inspect<1,>=0.4.0->dataclasses-json<0.7,>=0.5.7->langchain-community) (1.1.0)\n",
      "Requirement already satisfied: colorama in c:\\users\\bokji\\miniconda3\\envs\\class_gpu\\lib\\site-packages (from tqdm>4->openai) (0.4.6)\n",
      "Note: you may need to restart the kernel to use updated packages.\n"
     ]
    }
   ],
   "source": [
    "%pip install langchain-openai langchain-community python-dotenv openai"
   ]
  },
  {
   "cell_type": "code",
   "execution_count": 5,
   "id": "b4bd1dce",
   "metadata": {},
   "outputs": [
    {
     "data": {
      "text/plain": [
       "True"
      ]
     },
     "execution_count": 5,
     "metadata": {},
     "output_type": "execute_result"
    }
   ],
   "source": [
    "# 환경변수 로드\n",
    "from dotenv import load_dotenv\n",
    "load_dotenv()"
   ]
  },
  {
   "cell_type": "code",
   "execution_count": 6,
   "id": "6fadf0b9",
   "metadata": {},
   "outputs": [
    {
     "data": {
      "text/plain": [
       "'Langchain은 자연어 처리(NLP) 애플리케이션을 개발하기 위한 프레임워크로, 다양한 언어 모델과 데이터 소스를 연결하여 복잡한 언어 작업을 수행할 수 있게 해줍니다.'"
      ]
     },
     "execution_count": 6,
     "metadata": {},
     "output_type": "execute_result"
    }
   ],
   "source": [
    "from langchain_openai import ChatOpenAI\n",
    "llm = ChatOpenAI(model=\"gpt-4o-mini\", temperature=0.7) # dotenv 를 하면 자동으로 OPENAI_API_KEY를 참조\n",
    "# LLM에 질의하기\n",
    "prompt = \"Langchain에 대해 한 문장으로 설명해줘\" \n",
    "result = llm.invoke(prompt)\n",
    "result.content"
   ]
  },
  {
   "cell_type": "code",
   "execution_count": 7,
   "id": "2b0602c9",
   "metadata": {},
   "outputs": [
    {
     "data": {
      "text/plain": [
       "{'input_tokens': 18,\n",
       " 'output_tokens': 50,\n",
       " 'total_tokens': 68,\n",
       " 'input_token_details': {'audio': 0, 'cache_read': 0},\n",
       " 'output_token_details': {'audio': 0, 'reasoning': 0}}"
      ]
     },
     "execution_count": 7,
     "metadata": {},
     "output_type": "execute_result"
    }
   ],
   "source": [
    "# 사용량\n",
    "result.usage_metadata"
   ]
  },
  {
   "cell_type": "code",
   "execution_count": 9,
   "id": "94287ffc",
   "metadata": {},
   "outputs": [
    {
     "name": "stdout",
     "output_type": "stream",
     "text": [
      "응답1 죄송하지만, 실시간 ...\n",
      "응답2 랭체인(LangCh ...\n",
      "총 토큰 사용량: 779\n",
      "프롬프트 토큰수: 39\n",
      "응답 토큰수: 740\n",
      "비용: $0.0004498499999999999\n"
     ]
    }
   ],
   "source": [
    "# 콜백함수를 통한 누적 토큰 추적(get_openai_callback)\n",
    "from langchain_community.callbacks import get_openai_callback\n",
    "with get_openai_callback() as cb:\n",
    "    # 첫번째 호출\n",
    "    res1 = llm.invoke('서울의 오늘 날씨는 어떤지 알려줘?')\n",
    "    print(\"응답1\",res1.content[:10], '...')\n",
    "    # 두번째 호출\n",
    "    res2 = llm.invoke('파이썬으로 랭체인 사용법을 알려줘')\n",
    "    print('응답2',res2.content[:10], '...')\n",
    "# 누적 토큰 사용량 출력 콜백 cb에는 블록 내 전체 토큰 사용량이 누적\n",
    "# 총 토큰 사용량\n",
    "print(f\"총 토큰 사용량: {cb.total_tokens}\")\n",
    "# 프롬프트 토큰수\n",
    "print(f\"프롬프트 토큰수: {cb.prompt_tokens}\")\n",
    "# 응답 토큰수\n",
    "print(f\"응답 토큰수: {cb.completion_tokens}\")\n",
    "# 비용 계산\n",
    "print(f\"비용: ${cb.total_cost}\")"
   ]
  },
  {
   "cell_type": "markdown",
   "id": "4d9a08ef",
   "metadata": {},
   "source": [
    "## Langchain의 LLM 응답캐싱 (In-memort Cache, SQLiteCache)\n",
    "하는 이유 : 동일한 질문은 저장해뒀다가 응답에 사용"
   ]
  },
  {
   "cell_type": "code",
   "execution_count": null,
   "id": "a1cb3d3c",
   "metadata": {},
   "outputs": [],
   "source": []
  }
 ],
 "metadata": {
  "kernelspec": {
   "display_name": "class_gpu",
   "language": "python",
   "name": "python3"
  },
  "language_info": {
   "codemirror_mode": {
    "name": "ipython",
    "version": 3
   },
   "file_extension": ".py",
   "mimetype": "text/x-python",
   "name": "python",
   "nbconvert_exporter": "python",
   "pygments_lexer": "ipython3",
   "version": "3.10.16"
  }
 },
 "nbformat": 4,
 "nbformat_minor": 5
}
