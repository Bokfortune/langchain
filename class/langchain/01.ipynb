{
 "cells": [
  {
   "cell_type": "markdown",
   "id": "e0b4e7bb",
   "metadata": {},
   "source": [
    "Langchain을 활용한 모델 사용, 비용 모니터잉 및 캐싱 전략\n",
    "  - GPT-4o-mini  GPT-3.5-Turbo 비용이 60% 저렴\n",
    "  - Langchain V3.0x 부터 openai 가 별도 패키지로 분리 필요 패키지를 설치 langchain-openai 필요\n",
    "  - 토큰 사용량 추적, 캐싱을 위한 langchain-community 도 별도 설치\n",
    "  - 환경 변수 관리 패키지 python-dotenv"
   ]
  },
  {
   "cell_type": "code",
   "execution_count": 4,
   "id": "3a0103a1",
   "metadata": {},
   "outputs": [
    {
     "name": "stdout",
     "output_type": "stream",
     "text": [
      "Requirement already satisfied: langchain-openai in c:\\users\\bokji\\miniconda3\\envs\\class_gpu\\lib\\site-packages (0.3.18)\n",
      "Requirement already satisfied: langchain-community in c:\\users\\bokji\\miniconda3\\envs\\class_gpu\\lib\\site-packages (0.3.24)\n",
      "Requirement already satisfied: python-dotenv in c:\\users\\bokji\\miniconda3\\envs\\class_gpu\\lib\\site-packages (1.1.0)\n",
      "Requirement already satisfied: openai in c:\\users\\bokji\\miniconda3\\envs\\class_gpu\\lib\\site-packages (1.82.0)\n",
      "Requirement already satisfied: langchain-core<1.0.0,>=0.3.61 in c:\\users\\bokji\\miniconda3\\envs\\class_gpu\\lib\\site-packages (from langchain-openai) (0.3.61)\n",
      "Requirement already satisfied: tiktoken<1,>=0.7 in c:\\users\\bokji\\miniconda3\\envs\\class_gpu\\lib\\site-packages (from langchain-openai) (0.9.0)\n",
      "Requirement already satisfied: anyio<5,>=3.5.0 in c:\\users\\bokji\\miniconda3\\envs\\class_gpu\\lib\\site-packages (from openai) (4.9.0)\n",
      "Requirement already satisfied: distro<2,>=1.7.0 in c:\\users\\bokji\\miniconda3\\envs\\class_gpu\\lib\\site-packages (from openai) (1.9.0)\n",
      "Requirement already satisfied: httpx<1,>=0.23.0 in c:\\users\\bokji\\miniconda3\\envs\\class_gpu\\lib\\site-packages (from openai) (0.28.1)\n",
      "Requirement already satisfied: jiter<1,>=0.4.0 in c:\\users\\bokji\\miniconda3\\envs\\class_gpu\\lib\\site-packages (from openai) (0.10.0)\n",
      "Requirement already satisfied: pydantic<3,>=1.9.0 in c:\\users\\bokji\\miniconda3\\envs\\class_gpu\\lib\\site-packages (from openai) (2.11.4)\n",
      "Requirement already satisfied: sniffio in c:\\users\\bokji\\miniconda3\\envs\\class_gpu\\lib\\site-packages (from openai) (1.3.1)\n",
      "Requirement already satisfied: tqdm>4 in c:\\users\\bokji\\miniconda3\\envs\\class_gpu\\lib\\site-packages (from openai) (4.67.1)\n",
      "Requirement already satisfied: typing-extensions<5,>=4.11 in c:\\users\\bokji\\miniconda3\\envs\\class_gpu\\lib\\site-packages (from openai) (4.13.2)\n",
      "Requirement already satisfied: exceptiongroup>=1.0.2 in c:\\users\\bokji\\miniconda3\\envs\\class_gpu\\lib\\site-packages (from anyio<5,>=3.5.0->openai) (1.3.0)\n",
      "Requirement already satisfied: idna>=2.8 in c:\\users\\bokji\\miniconda3\\envs\\class_gpu\\lib\\site-packages (from anyio<5,>=3.5.0->openai) (3.10)\n",
      "Requirement already satisfied: certifi in c:\\users\\bokji\\miniconda3\\envs\\class_gpu\\lib\\site-packages (from httpx<1,>=0.23.0->openai) (2025.4.26)\n",
      "Requirement already satisfied: httpcore==1.* in c:\\users\\bokji\\miniconda3\\envs\\class_gpu\\lib\\site-packages (from httpx<1,>=0.23.0->openai) (1.0.9)\n",
      "Requirement already satisfied: h11>=0.16 in c:\\users\\bokji\\miniconda3\\envs\\class_gpu\\lib\\site-packages (from httpcore==1.*->httpx<1,>=0.23.0->openai) (0.16.0)\n",
      "Requirement already satisfied: langsmith<0.4,>=0.1.126 in c:\\users\\bokji\\miniconda3\\envs\\class_gpu\\lib\\site-packages (from langchain-core<1.0.0,>=0.3.61->langchain-openai) (0.3.42)\n",
      "Requirement already satisfied: tenacity!=8.4.0,<10.0.0,>=8.1.0 in c:\\users\\bokji\\miniconda3\\envs\\class_gpu\\lib\\site-packages (from langchain-core<1.0.0,>=0.3.61->langchain-openai) (9.1.2)\n",
      "Requirement already satisfied: jsonpatch<2.0,>=1.33 in c:\\users\\bokji\\miniconda3\\envs\\class_gpu\\lib\\site-packages (from langchain-core<1.0.0,>=0.3.61->langchain-openai) (1.33)\n",
      "Requirement already satisfied: PyYAML>=5.3 in c:\\users\\bokji\\miniconda3\\envs\\class_gpu\\lib\\site-packages (from langchain-core<1.0.0,>=0.3.61->langchain-openai) (6.0.2)\n",
      "Requirement already satisfied: packaging<25,>=23.2 in c:\\users\\bokji\\miniconda3\\envs\\class_gpu\\lib\\site-packages (from langchain-core<1.0.0,>=0.3.61->langchain-openai) (24.2)\n",
      "Requirement already satisfied: jsonpointer>=1.9 in c:\\users\\bokji\\miniconda3\\envs\\class_gpu\\lib\\site-packages (from jsonpatch<2.0,>=1.33->langchain-core<1.0.0,>=0.3.61->langchain-openai) (3.0.0)\n",
      "Requirement already satisfied: orjson<4.0.0,>=3.9.14 in c:\\users\\bokji\\miniconda3\\envs\\class_gpu\\lib\\site-packages (from langsmith<0.4,>=0.1.126->langchain-core<1.0.0,>=0.3.61->langchain-openai) (3.10.18)\n",
      "Requirement already satisfied: requests<3,>=2 in c:\\users\\bokji\\miniconda3\\envs\\class_gpu\\lib\\site-packages (from langsmith<0.4,>=0.1.126->langchain-core<1.0.0,>=0.3.61->langchain-openai) (2.32.3)\n",
      "Requirement already satisfied: requests-toolbelt<2.0.0,>=1.0.0 in c:\\users\\bokji\\miniconda3\\envs\\class_gpu\\lib\\site-packages (from langsmith<0.4,>=0.1.126->langchain-core<1.0.0,>=0.3.61->langchain-openai) (1.0.0)\n",
      "Requirement already satisfied: zstandard<0.24.0,>=0.23.0 in c:\\users\\bokji\\miniconda3\\envs\\class_gpu\\lib\\site-packages (from langsmith<0.4,>=0.1.126->langchain-core<1.0.0,>=0.3.61->langchain-openai) (0.23.0)\n",
      "Requirement already satisfied: annotated-types>=0.6.0 in c:\\users\\bokji\\miniconda3\\envs\\class_gpu\\lib\\site-packages (from pydantic<3,>=1.9.0->openai) (0.7.0)\n",
      "Requirement already satisfied: pydantic-core==2.33.2 in c:\\users\\bokji\\miniconda3\\envs\\class_gpu\\lib\\site-packages (from pydantic<3,>=1.9.0->openai) (2.33.2)\n",
      "Requirement already satisfied: typing-inspection>=0.4.0 in c:\\users\\bokji\\miniconda3\\envs\\class_gpu\\lib\\site-packages (from pydantic<3,>=1.9.0->openai) (0.4.0)\n",
      "Requirement already satisfied: charset-normalizer<4,>=2 in c:\\users\\bokji\\miniconda3\\envs\\class_gpu\\lib\\site-packages (from requests<3,>=2->langsmith<0.4,>=0.1.126->langchain-core<1.0.0,>=0.3.61->langchain-openai) (3.4.2)\n",
      "Requirement already satisfied: urllib3<3,>=1.21.1 in c:\\users\\bokji\\miniconda3\\envs\\class_gpu\\lib\\site-packages (from requests<3,>=2->langsmith<0.4,>=0.1.126->langchain-core<1.0.0,>=0.3.61->langchain-openai) (2.4.0)\n",
      "Requirement already satisfied: regex>=2022.1.18 in c:\\users\\bokji\\miniconda3\\envs\\class_gpu\\lib\\site-packages (from tiktoken<1,>=0.7->langchain-openai) (2024.11.6)\n",
      "Requirement already satisfied: langchain<1.0.0,>=0.3.25 in c:\\users\\bokji\\miniconda3\\envs\\class_gpu\\lib\\site-packages (from langchain-community) (0.3.25)\n",
      "Requirement already satisfied: SQLAlchemy<3,>=1.4 in c:\\users\\bokji\\miniconda3\\envs\\class_gpu\\lib\\site-packages (from langchain-community) (2.0.41)\n",
      "Requirement already satisfied: aiohttp<4.0.0,>=3.8.3 in c:\\users\\bokji\\miniconda3\\envs\\class_gpu\\lib\\site-packages (from langchain-community) (3.11.18)\n",
      "Requirement already satisfied: dataclasses-json<0.7,>=0.5.7 in c:\\users\\bokji\\miniconda3\\envs\\class_gpu\\lib\\site-packages (from langchain-community) (0.6.7)\n",
      "Requirement already satisfied: pydantic-settings<3.0.0,>=2.4.0 in c:\\users\\bokji\\miniconda3\\envs\\class_gpu\\lib\\site-packages (from langchain-community) (2.9.1)\n",
      "Requirement already satisfied: httpx-sse<1.0.0,>=0.4.0 in c:\\users\\bokji\\miniconda3\\envs\\class_gpu\\lib\\site-packages (from langchain-community) (0.4.0)\n",
      "Requirement already satisfied: numpy>=1.26.2 in c:\\users\\bokji\\miniconda3\\envs\\class_gpu\\lib\\site-packages (from langchain-community) (2.2.6)\n",
      "Requirement already satisfied: aiohappyeyeballs>=2.3.0 in c:\\users\\bokji\\miniconda3\\envs\\class_gpu\\lib\\site-packages (from aiohttp<4.0.0,>=3.8.3->langchain-community) (2.6.1)\n",
      "Requirement already satisfied: aiosignal>=1.1.2 in c:\\users\\bokji\\miniconda3\\envs\\class_gpu\\lib\\site-packages (from aiohttp<4.0.0,>=3.8.3->langchain-community) (1.3.2)\n",
      "Requirement already satisfied: async-timeout<6.0,>=4.0 in c:\\users\\bokji\\miniconda3\\envs\\class_gpu\\lib\\site-packages (from aiohttp<4.0.0,>=3.8.3->langchain-community) (4.0.3)\n",
      "Requirement already satisfied: attrs>=17.3.0 in c:\\users\\bokji\\miniconda3\\envs\\class_gpu\\lib\\site-packages (from aiohttp<4.0.0,>=3.8.3->langchain-community) (25.3.0)\n",
      "Requirement already satisfied: frozenlist>=1.1.1 in c:\\users\\bokji\\miniconda3\\envs\\class_gpu\\lib\\site-packages (from aiohttp<4.0.0,>=3.8.3->langchain-community) (1.6.0)\n",
      "Requirement already satisfied: multidict<7.0,>=4.5 in c:\\users\\bokji\\miniconda3\\envs\\class_gpu\\lib\\site-packages (from aiohttp<4.0.0,>=3.8.3->langchain-community) (6.4.3)\n",
      "Requirement already satisfied: propcache>=0.2.0 in c:\\users\\bokji\\miniconda3\\envs\\class_gpu\\lib\\site-packages (from aiohttp<4.0.0,>=3.8.3->langchain-community) (0.3.1)\n",
      "Requirement already satisfied: yarl<2.0,>=1.17.0 in c:\\users\\bokji\\miniconda3\\envs\\class_gpu\\lib\\site-packages (from aiohttp<4.0.0,>=3.8.3->langchain-community) (1.20.0)\n",
      "Requirement already satisfied: marshmallow<4.0.0,>=3.18.0 in c:\\users\\bokji\\miniconda3\\envs\\class_gpu\\lib\\site-packages (from dataclasses-json<0.7,>=0.5.7->langchain-community) (3.26.1)\n",
      "Requirement already satisfied: typing-inspect<1,>=0.4.0 in c:\\users\\bokji\\miniconda3\\envs\\class_gpu\\lib\\site-packages (from dataclasses-json<0.7,>=0.5.7->langchain-community) (0.9.0)\n",
      "Requirement already satisfied: langchain-text-splitters<1.0.0,>=0.3.8 in c:\\users\\bokji\\miniconda3\\envs\\class_gpu\\lib\\site-packages (from langchain<1.0.0,>=0.3.25->langchain-community) (0.3.8)\n",
      "Requirement already satisfied: greenlet>=1 in c:\\users\\bokji\\miniconda3\\envs\\class_gpu\\lib\\site-packages (from SQLAlchemy<3,>=1.4->langchain-community) (3.2.2)\n",
      "Requirement already satisfied: mypy-extensions>=0.3.0 in c:\\users\\bokji\\miniconda3\\envs\\class_gpu\\lib\\site-packages (from typing-inspect<1,>=0.4.0->dataclasses-json<0.7,>=0.5.7->langchain-community) (1.1.0)\n",
      "Requirement already satisfied: colorama in c:\\users\\bokji\\miniconda3\\envs\\class_gpu\\lib\\site-packages (from tqdm>4->openai) (0.4.6)\n",
      "Note: you may need to restart the kernel to use updated packages.\n"
     ]
    }
   ],
   "source": [
    "%pip install langchain-openai langchain-community python-dotenv openai"
   ]
  },
  {
   "cell_type": "code",
   "execution_count": 5,
   "id": "b4bd1dce",
   "metadata": {},
   "outputs": [
    {
     "data": {
      "text/plain": [
       "True"
      ]
     },
     "execution_count": 5,
     "metadata": {},
     "output_type": "execute_result"
    }
   ],
   "source": [
    "# 환경변수 로드\n",
    "from dotenv import load_dotenv\n",
    "load_dotenv()"
   ]
  },
  {
   "cell_type": "code",
   "execution_count": 6,
   "id": "6fadf0b9",
   "metadata": {},
   "outputs": [
    {
     "data": {
      "text/plain": [
       "'Langchain은 자연어 처리(NLP) 애플리케이션을 개발하기 위한 프레임워크로, 다양한 언어 모델과 데이터 소스를 연결하여 복잡한 언어 작업을 수행할 수 있게 해줍니다.'"
      ]
     },
     "execution_count": 6,
     "metadata": {},
     "output_type": "execute_result"
    }
   ],
   "source": [
    "from langchain_openai import ChatOpenAI\n",
    "llm = ChatOpenAI(model=\"gpt-4o-mini\", temperature=0.7) # dotenv 를 하면 자동으로 OPENAI_API_KEY를 참조\n",
    "# LLM에 질의하기\n",
    "prompt = \"Langchain에 대해 한 문장으로 설명해줘\" \n",
    "result = llm.invoke(prompt)\n",
    "result.content"
   ]
  },
  {
   "cell_type": "code",
   "execution_count": 7,
   "id": "2b0602c9",
   "metadata": {},
   "outputs": [
    {
     "data": {
      "text/plain": [
       "{'input_tokens': 18,\n",
       " 'output_tokens': 50,\n",
       " 'total_tokens': 68,\n",
       " 'input_token_details': {'audio': 0, 'cache_read': 0},\n",
       " 'output_token_details': {'audio': 0, 'reasoning': 0}}"
      ]
     },
     "execution_count": 7,
     "metadata": {},
     "output_type": "execute_result"
    }
   ],
   "source": [
    "# 사용량\n",
    "result.usage_metadata"
   ]
  },
  {
   "cell_type": "code",
   "execution_count": 9,
   "id": "94287ffc",
   "metadata": {},
   "outputs": [
    {
     "name": "stdout",
     "output_type": "stream",
     "text": [
      "응답1 죄송하지만, 실시간 ...\n",
      "응답2 랭체인(LangCh ...\n",
      "총 토큰 사용량: 779\n",
      "프롬프트 토큰수: 39\n",
      "응답 토큰수: 740\n",
      "비용: $0.0004498499999999999\n"
     ]
    }
   ],
   "source": [
    "# 콜백함수를 통한 누적 토큰 추적(get_openai_callback)\n",
    "from langchain_community.callbacks import get_openai_callback\n",
    "with get_openai_callback() as cb:\n",
    "    # 첫번째 호출\n",
    "    res1 = llm.invoke('서울의 오늘 날씨는 어떤지 알려줘?')\n",
    "    print(\"응답1\",res1.content[:10], '...')\n",
    "    # 두번째 호출\n",
    "    res2 = llm.invoke('파이썬으로 랭체인 사용법을 알려줘')\n",
    "    print('응답2',res2.content[:10], '...')\n",
    "# 누적 토큰 사용량 출력 콜백 cb에는 블록 내 전체 토큰 사용량이 누적\n",
    "# 총 토큰 사용량\n",
    "print(f\"총 토큰 사용량: {cb.total_tokens}\")\n",
    "# 프롬프트 토큰수\n",
    "print(f\"프롬프트 토큰수: {cb.prompt_tokens}\")\n",
    "# 응답 토큰수\n",
    "print(f\"응답 토큰수: {cb.completion_tokens}\")\n",
    "# 비용 계산\n",
    "print(f\"비용: ${cb.total_cost}\")"
   ]
  },
  {
   "cell_type": "markdown",
   "id": "4d9a08ef",
   "metadata": {},
   "source": [
    "## Langchain의 LLM 응답캐싱 (In-memort Cache, SQLiteCache)\n",
    "하는 이유 : 동일한 질문은 저장해뒀다가 응답에 사용"
   ]
  },
  {
   "cell_type": "code",
   "execution_count": 11,
   "id": "a1cb3d3c",
   "metadata": {},
   "outputs": [],
   "source": [
    "from langchain_core.caches import InMemoryCache\n",
    "from langchain_core.globals import set_llm_cache\n",
    "# InMemoryCache를 글로벌 캐시로 설정\n",
    "set_llm_cache(InMemoryCache())"
   ]
  },
  {
   "cell_type": "code",
   "execution_count": 18,
   "id": "2f0b59b3",
   "metadata": {},
   "outputs": [
    {
     "name": "stdout",
     "output_type": "stream",
     "text": [
      "응답1: 물론이죠! 다음은 짧은 유머입니다:\n",
      "\n",
      "왜 컴퓨터는 바다에 가지 않나요?\n",
      "\n",
      "바다에 가면 \"버그\"가 생길까 봐요! \n",
      "\n",
      "어떻게 생각하세요? 😊\n",
      "****************************************************************************************************\n",
      "응답2: 물론이죠! 다음은 짧은 유머입니다:\n",
      "\n",
      "왜 컴퓨터는 바다에 가지 않나요?\n",
      "\n",
      "바다에 가면 \"버그\"가 생길까 봐요! \n",
      "\n",
      "어떻게 생각하세요? 😊\n"
     ]
    }
   ],
   "source": [
    "# 캐시 사용 전후를 비교, 같은 질문을 두번 호출\n",
    "query = \"재미있는 유머 하나 알려줘\"\n",
    "# 첫번째 호출(캐시에 없으면 api 호출 발생)\n",
    "result1 = llm.invoke(query)\n",
    "print(\"응답1:\", result1.content)\n",
    "print('*'*100)\n",
    "# 두번째 호출(동일한 query. 캐시를 확인하고 동일 질문이면 api 미호출)\n",
    "query = \"재미있는 유머 하나 알려줘\"\n",
    "result2 = llm.invoke(query)\n",
    "print(\"응답2:\", result2.content)\n"
   ]
  },
  {
   "cell_type": "code",
   "execution_count": null,
   "id": "35f2da89",
   "metadata": {},
   "outputs": [
    {
     "name": "stdout",
     "output_type": "stream",
     "text": [
      "첫번째 호출 시간: 1.6040949821472168초\n",
      "두번째 호출 시간: 0.00099945068359375초\n"
     ]
    }
   ],
   "source": [
    "# 실행시간 측정\n",
    "import time\n",
    "# 첫번째 호출 시간\n",
    "query = \"점심 메뉴 추천해줘\"\n",
    "start = time.time() ; llm.invoke(query) ;end = time.time()\n",
    "print(f\"첫번째 호출 시간: {end - start}초\")\n",
    "\n",
    "# 실행시간 측정\n",
    "# 두번째 호출 시간\n",
    "start = time.time() ; llm.invoke(query) ;end = time.time()\n",
    "print(f\"두번째 호출 시간: {end - start}초\")\n",
    "\n",
    "\n",
    "# 첫번째 호출 시간: 1.6040949821472168초\n",
    "# 두번째 호출 시간: 0.00099945068359375초\n",
    "# 캐시메모리에서 확인했으므로 시간 단축 \n",
    "# 같은 질문에 대해서 정답 일관성이 높아지고, 시간 단축 효과가 있다.\n"
   ]
  },
  {
   "cell_type": "code",
   "execution_count": null,
   "id": "552e72ca",
   "metadata": {},
   "outputs": [],
   "source": []
  },
  {
   "cell_type": "markdown",
   "id": "87a7b509",
   "metadata": {},
   "source": [
    "# SQLite 캐시(디스크기반 캐시)"
   ]
  },
  {
   "cell_type": "code",
   "execution_count": 32,
   "id": "8bb09848",
   "metadata": {},
   "outputs": [],
   "source": [
    "# SQLiteCache를 글로벌 캐시로 설정\n",
    "import os\n",
    "from langchain_community.cache import SQLiteCache\n",
    "# 기존 캐시 DB 파일이 있다면 삭제(.langchain.db 초기화)\n",
    "# if os.path.exists('.langchain.db'): # True False 결정 함수\n",
    "#     os.remove('.langchain.db') # 있으면 삭제\n",
    "\n",
    "# SQLiteCache를 글로벌 캐시로 설정(지정한 경로의 DB 파일을 생성/사용)\n",
    "set_llm_cache(SQLiteCache(database_path='.langchain2.db')) # langchain.db 있으면 사용 없으면 생성\n"
   ]
  },
  {
   "cell_type": "code",
   "execution_count": 34,
   "id": "23b8cf80",
   "metadata": {},
   "outputs": [
    {
     "name": "stdout",
     "output_type": "stream",
     "text": [
      "첫번째 호출 시간: 0.0019998550415039062초\n",
      "응답1: 왜 바다가 짠지 아세요? \n",
      "\n",
      "소금이 너무 많아서요! 😄\n",
      "두번째 호출 시간: 0.0014193058013916016초\n",
      "응답2: 왜 바다가 짠지 아세요? \n",
      "\n",
      "소금이 너무 많아서요! 😄\n"
     ]
    }
   ],
   "source": [
    "import time\n",
    "# 동일한 query를 두번 호출해서 결과와 시간을 비교\n",
    "query = \"썰렁한 유머 하나 알려줘\"\n",
    "# 첫번째 호출(캐시에 없으면 api 호출 발생)\n",
    "start = time.time() ; result1 = llm.invoke(query) ; end = time.time()\n",
    "print(f'첫번째 호출 시간: {end - start}초')\n",
    "print(\"응답1:\", result1.content)\n",
    "\n",
    "# 두번째 호출(동일한 query. 캐시를 확인하고 동일 질문이면 api 미호출)\n",
    "start = time.time() ; result2 = llm.invoke(query) ; end = time.time()         \n",
    "print(f'두번째 호출 시간: {end - start}초')\n",
    "print(\"응답2:\", result2.content)\n",
    "\n",
    "\n",
    "# 첫번째 호출 시간: 1.6040949821472168초\n",
    "# 두번째 호출 시간: 0.0020258426666259766초"
   ]
  },
  {
   "cell_type": "code",
   "execution_count": null,
   "id": "97172349",
   "metadata": {},
   "outputs": [],
   "source": []
  }
 ],
 "metadata": {
  "kernelspec": {
   "display_name": "class_gpu",
   "language": "python",
   "name": "python3"
  },
  "language_info": {
   "codemirror_mode": {
    "name": "ipython",
    "version": 3
   },
   "file_extension": ".py",
   "mimetype": "text/x-python",
   "name": "python",
   "nbconvert_exporter": "python",
   "pygments_lexer": "ipython3",
   "version": "3.10.16"
  }
 },
 "nbformat": 4,
 "nbformat_minor": 5
}
