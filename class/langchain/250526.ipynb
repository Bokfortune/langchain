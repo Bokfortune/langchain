{
 "cells": [
  {
   "cell_type": "code",
   "execution_count": null,
   "id": "63d54ad2",
   "metadata": {},
   "outputs": [],
   "source": [
    "%pip install langchain-openai langchain-python-dotenv"
   ]
  },
  {
   "cell_type": "code",
   "execution_count": null,
   "id": "51589289",
   "metadata": {},
   "outputs": [
    {
     "data": {
      "text/plain": [
       "'sk-p'"
      ]
     },
     "execution_count": 2,
     "metadata": {},
     "output_type": "execute_result"
    }
   ],
   "source": [
    "from dotenv import load_dotenv\n",
    "load_dotenv() # .env 파일 내용을 환경변수로 로드\n",
    "import os\n",
    "os.getenv(\"OPENAI_API_KEY\")[:4] # 환경변수에서 OpenAI API 키를 "
   ]
  },
  {
   "cell_type": "markdown",
   "id": "04324b8d",
   "metadata": {},
   "source": [
    "Langchain의 핵심컴포넌트 : 모델 호출단계를 구성하는 추상화 요소를 제공\n",
    "   - PromptTemplate : LLM에 보낼 입력 프롬프트\n",
    "   - ChatOpenAI : openai의 GPT- 모델호출\n",
    "   - Runnable : 실행가능한 객체에 대한 공통 인터페이스   -> invoke() 메서드를 통해 입력 -> 출력을 지원\n",
    "   - StrOutPutParser : 문자열 출력 파서  \n",
    "파이프로 연결이 가능...ex) prompt | LLM | strparser"
   ]
  },
  {
   "cell_type": "code",
   "execution_count": 4,
   "id": "f8360b57",
   "metadata": {},
   "outputs": [
    {
     "data": {
      "text/plain": [
       "'커피 제품을 생산하는 회사이름은 뭘로 하면 좋을까?'"
      ]
     },
     "execution_count": 4,
     "metadata": {},
     "output_type": "execute_result"
    }
   ],
   "source": [
    "from langchain_core.prompts import PromptTemplate\n",
    "template = \"{product} 제품을 생산하는 회사이름은 뭘로 하면 좋을까?\"\n",
    "prompt = PromptTemplate.from_template(template) # 프롬프트 템플릿 생성\n",
    "formated_prompt = prompt.format(product=\"커피\") # 프롬프트 템플릿에 변수 삽입\n",
    "formated_prompt"
   ]
  },
  {
   "cell_type": "code",
   "execution_count": 8,
   "id": "c39d727b",
   "metadata": {},
   "outputs": [
    {
     "data": {
      "text/plain": [
       "'저는 AI 언어 모델이라 이름은 없지만, 필요하신 정보나 질문에 대해 도와드릴 수 있습니다! 무엇을 도와드릴까요?'"
      ]
     },
     "execution_count": 8,
     "metadata": {},
     "output_type": "execute_result"
    }
   ],
   "source": [
    "from langchain_openai import ChatOpenAI\n",
    "llm = ChatOpenAI(model=\"gpt-4o-mini\", temperature=0) # OpenAI LLM 인스턴스 생성  # Runnable 객체 --> invoke() 메서드로 실행\n",
    "response = llm.invoke(['human','이름이 뭐니']) # LLM에 프롬프트 전달하여 응답 받기\n",
    "response.content # 응답 내용 출력"
   ]
  },
  {
   "cell_type": "code",
   "execution_count": 9,
   "id": "dc01c190",
   "metadata": {},
   "outputs": [
    {
     "data": {
      "text/plain": [
       "'저는 AI 언어 모델이라 이름은 없지만, 필요하신 정보나 질문에 대해 도와드릴 수 있습니다! 무엇을 도와드릴까요?'"
      ]
     },
     "execution_count": 9,
     "metadata": {},
     "output_type": "execute_result"
    }
   ],
   "source": [
    "# 문자열 출력 파서 Runnable 객체  - invoke\n",
    "from langchain_core.output_parsers import StrOutputParser\n",
    "parser = StrOutputParser() # 문자열 출력 파서 생성\n",
    "parsed_text= parser.invoke(response) # 응답 내용 파싱\n",
    "parsed_text"
   ]
  },
  {
   "cell_type": "markdown",
   "id": "aade33ce",
   "metadata": {},
   "source": [
    "위 하나로 연결\n",
    "LangChain Expression Language(LCEL) 단일 체인 실행\n",
    "\n",
    "\n",
    "\n"
   ]
  },
  {
   "cell_type": "code",
   "execution_count": 11,
   "id": "522aceb5",
   "metadata": {},
   "outputs": [
    {
     "name": "stdout",
     "output_type": "stream",
     "text": [
      "커피 제품을 생산하는 회사 이름을 정할 때는 브랜드의 이미지, 타겟 고객, 그리고 제품의 특징을 고려하는 것이 중요합니다. 다음은 몇 가지 아이디어입니다:\n",
      "\n",
      "1. **커피의 정원** - 자연 친화적인 이미지를 강조\n",
      "2. **아침의 한 잔** - 아침에 커피를 즐기는 사람들을 겨냥\n",
      "3. **커피의 예술** - 고급스러운 느낌을 주는 이름\n",
      "4. **향기로운 순간** - 커피의 향기를 강조\n",
      "5. **커피 이야기** - 각 커피의 배경과 스토리를 강조\n",
      "6. **커피 공방** - 수제 커피의 느낌을 주는 이름\n",
      "7. **커피의 여정** - 다양한 원두의 출처를 강조\n",
      "8. **한 잔의 행복** - 커피가 주는 기쁨을 표현\n",
      "9. **커피 마법** - 특별한 맛과 경험을 강조\n",
      "10. **커피의 시간** - 여유로운 커피 타임을 상징\n",
      "\n",
      "이 중에서 마음에 드는 이름을 선택하거나, 조합하여 새로운 이름을 만들어 보세요!\n"
     ]
    }
   ],
   "source": [
    "chain = prompt | llm | parser # => Runnable 객채 --> invoke\n",
    "result = chain.invoke({\"product\": \"커피\"}) # 체인 실행\n",
    "print(result)"
   ]
  },
  {
   "cell_type": "code",
   "execution_count": null,
   "id": "2efdfb35",
   "metadata": {},
   "outputs": [],
   "source": []
  }
 ],
 "metadata": {
  "kernelspec": {
   "display_name": "class_gpu",
   "language": "python",
   "name": "python3"
  },
  "language_info": {
   "codemirror_mode": {
    "name": "ipython",
    "version": 3
   },
   "file_extension": ".py",
   "mimetype": "text/x-python",
   "name": "python",
   "nbconvert_exporter": "python",
   "pygments_lexer": "ipython3",
   "version": "3.10.16"
  }
 },
 "nbformat": 4,
 "nbformat_minor": 5
}
