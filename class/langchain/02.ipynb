{
 "cells": [
  {
   "cell_type": "markdown",
   "id": "9399fc4a",
   "metadata": {},
   "source": [
    "Langchain 프롬프트 템플릿\n",
    "Langchain 프롬프트 템플릿 하는 이유 : \n",
    "\n",
    "```\n",
    "LLM 프롬프트를 동적으로 구성하고 재사용할 수 있도록 해주는 도구\n",
    "\n",
    "        단일 입력 : 하나의 변수로 구성된 프롬프트 템플릿\n",
    "        다중 입력 : 둘 이상의 변수를 사용하는 템플릿\n",
    "        ChatPromptTemplate 역할 기반 프롬프트 : 시스템/사용자 역할별 프롬프트 구성 .from_message()\n",
    "        PartialPromptTemplate 활용 : 프롬프트 일부를 미리 고정하고 부분포맷티을 사용(ex. 시스템 메시지는 고정)\n",
    "        프롬프트 출력 및 체인 실행 : LCEL\n",
    "        프롬프트 작성 팁 : 주의사항 및 모범사례\n",
    "```\n"
   ]
  },
  {
   "cell_type": "code",
   "execution_count": null,
   "id": "e7ab4a89",
   "metadata": {},
   "outputs": [],
   "source": [
    "%pip install langchain-openai langchain-community python-dotenv openai"
   ]
  },
  {
   "cell_type": "code",
   "execution_count": 1,
   "id": "ffc67e76",
   "metadata": {},
   "outputs": [
    {
     "data": {
      "text/plain": [
       "True"
      ]
     },
     "execution_count": 1,
     "metadata": {},
     "output_type": "execute_result"
    }
   ],
   "source": [
    "from dotenv import load_dotenv\n",
    "load_dotenv()"
   ]
  },
  {
   "cell_type": "code",
   "execution_count": null,
   "id": "a58c8061",
   "metadata": {},
   "outputs": [
    {
     "name": "stdout",
     "output_type": "stream",
     "text": [
      "당신은 최고 수준의 마케팅 카피라이터 입니다. \n",
      "아래 제품의 매력적인 홍보문구를 100자 내외로 작성해 주세요.\n",
      "\n",
      " 제품명 : 이클립스\n"
     ]
    }
   ],
   "source": [
    "# 단일 프롬프트 사용\n",
    "from langchain.prompts import PromptTemplate\n",
    "# 템플릿 문자열 정의\n",
    "template_str = (\n",
    "    \"당신은 최고 수준의 마케팅 카피라이터 입니다. \\n\"\n",
    "    \"아래 제품의 매력적인 홍보문구를 100자 내외로 작성해 주세요.\\n\\n \"\n",
    "    \"제품명 : {product_name}\"\n",
    ")\n",
    "# PromptTemplate 객체 생성\n",
    "product_prompt = PromptTemplate.from_template(template_str)\n",
    "# 프롬프트 템플릿에 값 채우기\n",
    "formatted_prompt = product_prompt.format(product_name=\"이클립스\")\n",
    "# 프롬프트 출력    \n",
    "print(formatted_prompt)"
   ]
  },
  {
   "cell_type": "markdown",
   "id": "39ebb75a",
   "metadata": {},
   "source": [
    "## LLM과 연결"
   ]
  },
  {
   "cell_type": "code",
   "execution_count": 9,
   "id": "70e8726c",
   "metadata": {},
   "outputs": [
    {
     "name": "stdout",
     "output_type": "stream",
     "text": [
      "\"이클립스, 당신의 일상에 빛나는 변화를! 매일의 순간을 특별하게 만들어주는 혁신적인 경험을 만나보세요. 지금 바로 이클립스와 함께하세요!\"\n"
     ]
    }
   ],
   "source": [
    "# 프롬프트 | LLM 연결 -> invoke\n",
    "from langchain_openai import ChatOpenAI\n",
    "# OpenAI LLM 연결\n",
    "llm = ChatOpenAI(model=\"gpt-4o-mini\", temperature=0)\n",
    "# Runnable 객체 생성 LCEL\n",
    "chain = product_prompt | llm\n",
    "result = chain.invoke({\"product_name\": \"이클립스\"})\n",
    "# 결과 출력\n",
    "print(result.content)"
   ]
  },
  {
   "cell_type": "code",
   "execution_count": 10,
   "id": "67cb765d",
   "metadata": {},
   "outputs": [
    {
     "name": "stdout",
     "output_type": "stream",
     "text": [
      "아래는 뉴스 기사 제목과 키워드 입니다.\n",
      "이 정보를 바탕으로 한 문단으로 구성된 간략한 요약문을 작성하세요.\n",
      "\n",
      "제목 : 인공지능 기술의 발전과 미래\n",
      "키워드 : 머신러닝, 딥러닝, LLM, 랭체인, 산업 혁신\n"
     ]
    }
   ],
   "source": [
    "# 다중 입력\n",
    "# 다중 입력 템프릿 문자열 정의\n",
    "multi_template_str = (\n",
    "    \"아래는 뉴스 기사 제목과 키워드 입니다.\\n\"\n",
    "    \"이 정보를 바탕으로 한 문단으로 구성된 간략한 요약문을 작성하세요.\\n\\n\"\n",
    "    \"제목 : {title}\\n\"\n",
    "    \"키워드 : {keyword}\"\n",
    ")\n",
    "\n",
    "# 프롬프트 템플릿 작성\n",
    "summary_prompt = PromptTemplate(template=multi_template_str, input_variables=[\"title\", \"keyword\"])\n",
    "# 프롬프트 템플릿에 값 채우기 (포맷팅을 통해 프롬프트 값 확인)\n",
    "sample_title = \"인공지능 기술의 발전과 미래\"\n",
    "sample_keyword = \"머신러닝, 딥러닝, LLM, 랭체인, 산업 혁신\"\n",
    "\n",
    "formatted_summary_prompt = summary_prompt.format(\n",
    "    title = sample_title,\n",
    "    keyword = sample_keyword\n",
    ")\n",
    "print(formatted_summary_prompt)"
   ]
  },
  {
   "cell_type": "code",
   "execution_count": 13,
   "id": "a359ec08",
   "metadata": {},
   "outputs": [
    {
     "data": {
      "text/plain": [
       "'인공지능 기술의 발전은 머신러닝과 딥러닝의 혁신을 통해 가속화되고 있으며, 특히 대규모 언어 모델(LLM)과 랭체인 기술이 주목받고 있습니다. 이러한 기술들은 다양한 산업 분야에서 혁신을 이끌어내고 있으며, 기업들은 이를 활용하여 효율성을 높이고 새로운 비즈니스 모델을 창출하고 있습니다. 앞으로 인공지능은 더욱 발전하여 우리의 삶과 산업 구조에 큰 변화를 가져올 것으로 기대됩니다.'"
      ]
     },
     "execution_count": 13,
     "metadata": {},
     "output_type": "execute_result"
    }
   ],
   "source": [
    "# 문자열 출력 파서 Runnable 객체  - invoke\n",
    "from langchain_core.output_parsers import StrOutputParser\n",
    "parser = StrOutputParser() # 문자열 출력 파서 생성\n",
    "\n",
    "# LCEL 출력\n",
    "summary_chain = summary_prompt | llm | parser\n",
    "# invoke 메서드로 프롬프트 실행 \n",
    "summary_result = summary_chain.invoke({\n",
    "    \"title\": sample_title,\n",
    "    \"keyword\": sample_keyword\n",
    "})\n",
    "# 결과 출력\n",
    "summary_result"
   ]
  },
  {
   "cell_type": "code",
   "execution_count": null,
   "id": "ee1b8725",
   "metadata": {},
   "outputs": [],
   "source": [
    "# ChainPromptTemplate과 역할 기반 프롬프트\n",
    "# 시스템/사용자/어시스턴트 역할(role)\n",
    "# 시스템 메시지: 머델의 동작을 지시\n",
    "# 사용자 메시지: 실제 사용자의 입력\n",
    "# 어시스턴트 메시지: 이전 모델이 응답한 내용이 있다면 대화맥락유지를 위해 활용"
   ]
  },
  {
   "cell_type": "code",
   "execution_count": null,
   "id": "81263416",
   "metadata": {},
   "outputs": [
    {
     "name": "stdout",
     "output_type": "stream",
     "text": [
      "[SystemMessage(content='당신은 python 분야의 뛰어난 전문가이자 조언자 입니다.사용자의 프로그래밍 질문에 대해 친절하고 이해하기 쉽게 답변해 주세요.', additional_kwargs={}, response_metadata={}), HumanMessage(content='파이썬의 클래스에 대해서 설명해주세요', additional_kwargs={}, response_metadata={})]\n"
     ]
    }
   ],
   "source": [
    "from langchain.prompts import ChatPromptTemplate\n",
    "# 역할 기반 프롬프트 템플릿 생성    \n",
    "system_message = (\"당신은 python 분야의 뛰어난 전문가이자 조언자 입니다.\"\n",
    "                  \"사용자의 프로그래밍 질문에 대해 친절하고 이해하기 쉽게 답변해 주세요.\")\n",
    "user_message = \"{question}\"\n",
    "chat_prompt = ChatPromptTemplate.from_messages([\n",
    "    (\"system\", system_message),\n",
    "    (\"user\", user_message)\n",
    "])  \n",
    "\n",
    "# 템플릿을 이용해서 문장을 완성해 주세요 -> LLM 쓰지않음 (chat_prompt는 Runnable 객체)\n",
    "sample_question = \"파이썬의 클래스에 대해서 설명해주세요\"\n",
    "formatted_chat_prompt = chat_prompt.format_messages(question=sample_question)\n",
    "# 프롬프트 출력\n",
    "print(formatted_chat_prompt)\n",
    "\n",
    "\n",
    "\n",
    "# 파이프라인을 이용해서 LLM호출 및 출력\n",
    "\n",
    "chat_chain = chat_prompt | llm | parser\n",
    "# invoke 메서드로 프롬프트 실행\n",
    "chat_result = chat_chain.invoke({\n",
    "    \"question\": \"파이썬에서 리스트를 정렬하는 방법은?\"\n",
    "})\n",
    "# # 결과 출력\n",
    "# print(chat_result)\n"
   ]
  },
  {
   "cell_type": "code",
   "execution_count": null,
   "id": "c5e32865",
   "metadata": {},
   "outputs": [],
   "source": []
  }
 ],
 "metadata": {
  "kernelspec": {
   "display_name": "class_gpu",
   "language": "python",
   "name": "python3"
  },
  "language_info": {
   "codemirror_mode": {
    "name": "ipython",
    "version": 3
   },
   "file_extension": ".py",
   "mimetype": "text/x-python",
   "name": "python",
   "nbconvert_exporter": "python",
   "pygments_lexer": "ipython3",
   "version": "3.10.16"
  }
 },
 "nbformat": 4,
 "nbformat_minor": 5
}
