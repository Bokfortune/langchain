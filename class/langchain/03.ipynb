{
 "cells": [
  {
   "cell_type": "markdown",
   "id": "59b90b50",
   "metadata": {},
   "source": [
    "LangChainMemory : 이전 대화 내용을 기억햇서 문맥을 유지하는 역할 Langchain 0,   \n",
    "3X부터는 LCEL 기반으로 체인을 구성, RunnableWithMessageHistory,    \n",
    "ChatMessageHistory 등의 컴포넌트를 활용해서 세션별 대화 기록을 관리, 대화가 장기화 될 경우       \n",
    "요약 메모리를 도입해서 과거 대화를 LLM으로 요약하고 축약된 형태로 저장해서 프롬프트의 길이문제를 해결  \n"
   ]
  },
  {
   "cell_type": "code",
   "execution_count": 1,
   "id": "668cfbe0",
   "metadata": {},
   "outputs": [
    {
     "data": {
      "text/plain": [
       "True"
      ]
     },
     "execution_count": 1,
     "metadata": {},
     "output_type": "execute_result"
    }
   ],
   "source": [
    "from dotenv import load_dotenv\n",
    "load_dotenv()"
   ]
  },
  {
   "cell_type": "code",
   "execution_count": 8,
   "id": "9cffb84e",
   "metadata": {},
   "outputs": [
    {
     "name": "stdout",
     "output_type": "stream",
     "text": [
      "human: 안녕하세요 제 이름은 홍길동입니다.\n",
      "ai: 안녕하세요 홍길동님, 무엇을 도와드릴까요?\n"
     ]
    }
   ],
   "source": [
    "from langchain_core.chat_history import InMemoryChatMessageHistory\n",
    "\n",
    "# 메모리 객체 생성\n",
    "history = InMemoryChatMessageHistory()\n",
    "# 필요한 멤버 추가\n",
    "history.add_user_message(\"안녕하세요 제 이름은 홍길동입니다.\")\n",
    "history.add_ai_message(\"안녕하세요 홍길동님, 무엇을 도와드릴까요?\")\n",
    "# 현재까지의 대화 내용 확인\n",
    "for msg in history.messages:\n",
    "    print(f\"{msg.type}: {msg.content}\")"
   ]
  },
  {
   "cell_type": "code",
   "execution_count": null,
   "id": "3decf3ee",
   "metadata": {},
   "outputs": [],
   "source": [
    "## Redis를 이용한 채팅 기록 저장\n",
    "from langchain_redis import RedisChatMessageHistory\n",
    "import os\n",
    "Redis_URL = os.getenv(\"REDIS_CHAT_URL\", \"redis://localhost:6379\")\n",
    "session_id = \"uset_123\"\n",
    "# Redis 메모리 객체 생성\n",
    "history = RedisChatMessageHistory(session_id= session_id , redis_url=Redis_URL)\n",
    "# 필요한 멤버 추가\n",
    "history.add_user_message(\"안녕하세요 제 이름은 홍길동입니다.\")\n",
    "history.add_ai_message(\"안녕하세요 홍길동님, 무엇을 도와드릴까요?\")\n",
    "# 현재까지의 대화 내용 확인\n",
    "for msg in history.messages:\n",
    "    print(f\"{msg.type}: {msg.content}\")\n",
    "\n",
    "# 다음 프로젝트 때 이어서 할 예정\n"
   ]
  },
  {
   "cell_type": "code",
   "execution_count": null,
   "id": "1f720244",
   "metadata": {},
   "outputs": [],
   "source": [
    "# 세션 기반 다중 사용자 메모리 구조 구현\n",
    "# 핵심 : session_id를 키로 하는 메모리 저장소 만들고 사용자의 대화는 키별로 저장한다.\n",
    "from langchain_core.prompts import ChatPromptTemplate, MessagesPlaceholder\n",
    "from langchain_openai import ChatOpenAI\n",
    "# 프롬프트\n",
    "prompt = ChatPromptTemplate.from_messages([\n",
    "    (\"system\", \"당신은 뛰어난 한국어 상담 챗봇입니다. 질문에 친절하고 자세히 답변해주세요\"),\n",
    "    MessagesPlaceholder(variable_name=\"history\"), \n",
    "    # history키로 전달된 메세지 목록은 체인 실행시 해당 위치에 넣겠다는 의미\n",
    "    (\"human\", \"{input}\"), \n",
    "])\n",
    "\n",
    "llm = ChatOpenAI(temperature=0.0, model=\"gpt-4o-mini\")"
   ]
  },
  {
   "cell_type": "code",
   "execution_count": 11,
   "id": "17821f28",
   "metadata": {},
   "outputs": [],
   "source": [
    "# LCEL 체인 생성\n",
    "from langchain_core.output_parsers import StrOutputParser\n",
    "chain = prompt | llm | StrOutputParser()"
   ]
  },
  {
   "cell_type": "code",
   "execution_count": 12,
   "id": "a9d325e5",
   "metadata": {},
   "outputs": [],
   "source": [
    "# 세션별 메모리 저장소를 딕셔너리로 만들고, 존재하지 않는 새로운 세션 id가 들어오면 InmemoryChatMessageHistory를 생성\n",
    "# get_session_history를 구현"
   ]
  },
  {
   "cell_type": "code",
   "execution_count": 35,
   "id": "7f678c39",
   "metadata": {},
   "outputs": [],
   "source": [
    "from langchain_core.chat_history import InMemoryChatMessageHistory\n",
    "from langchain_core.runnables.history import RunnableWithMessageHistory\n",
    "# 세션 id -> 대화 기록 객체 매핑\n",
    "store = {}\n",
    "def get_session_history(session_id: str):\n",
    "    '''\"세션 ID\"에 해당하는 대화 기록 객체를 반환합니다.(없으면 새로 생성)'''\n",
    "    if session_id not in store:\n",
    "        store[session_id] = InMemoryChatMessageHistory()\n",
    "    return store[session_id]\n",
    "\n",
    "# 메모리를 통합한 체인 래퍼 생성\n",
    "chatbot = RunnableWithMessageHistory(\n",
    "    runnable = chain,                 # runnable (첫 번째)\n",
    "    get_session_history = get_session_history,   # message_history_getter (두 번째)\n",
    "    input_messages_key='input',\n",
    "    history_messages_key='history'\n",
    ")\n"
   ]
  },
  {
   "cell_type": "code",
   "execution_count": 43,
   "id": "f7835e47",
   "metadata": {},
   "outputs": [],
   "source": [
    "import logging\n",
    "\n",
    "logging.getLogger(\"httpx\").setLevel(logging.WARNING)"
   ]
  },
  {
   "cell_type": "code",
   "execution_count": 44,
   "id": "243e14d0",
   "metadata": {},
   "outputs": [
    {
     "name": "stdout",
     "output_type": "stream",
     "text": [
      "[user_a] 질문: 안녕하세요, 저는 홍길동입니다. 당신은 누구신가요?\n",
      "[user_a] 챗봇: 안녕하세요, 홍길동님! 저는 여러분의 질문에 답변하고 도움을 드리기 위해 만들어진 챗봇입니다. 궁금한 점이나 도움이 필요하신 부분이 있다면 언제든지 말씀해 주세요!\n",
      "\n",
      "[user_b] 질문: 안녕하세요, 저는 이순신입니다. 당신은 어떤 일을 하시나요?\n",
      "[user_b] 챗봇: 안녕하세요, 이순신님! 저는 여러분의 질문에 답변하고, 정보 제공, 상담 등을 도와주는 챗봇입니다. 다양한 주제에 대해 이야기할 수 있으니 궁금한 점이나 도움이 필요하신 부분이 있다면 언제든지 말씀해 주세요!\n",
      "\n",
      "[user_a] 질문: 저는 프로그래밍을 배우고 있습니다. 당신은 어떤 일을 하시나요?\n",
      "[user_a] 챗봇: 프로그래밍을 배우고 계시다니 정말 멋지네요! 저는 여러분의 질문에 답변하고, 다양한 주제에 대한 정보를 제공하는 역할을 합니다. 프로그래밍 관련 질문, 알고리즘, 데이터 구조, 특정 언어에 대한 설명 등 여러 가지 도움을 드릴 수 있습니다. 궁금한 점이 있다면 언제든지 말씀해 주세요!\n",
      "\n",
      "[user_b] 질문: 저는 역사에 관심이 많습니다. 당신은 어떤 분야에 관심이 있나요?\n",
      "[user_b] 챗봇: 역사에 관심이 많으시군요! 역사적인 사건이나 인물에 대해 이야기하는 것은 정말 흥미로운 주제입니다. 저는 특정한 관심 분야가 없지만, 다양한 주제에 대한 정보를 제공할 수 있습니다. 역사, 과학, 기술, 문화 등 여러 분야에 대해 질문하시면 최대한 자세히 답변해 드리겠습니다. 어떤 역사적 사건이나 인물에 대해 이야기해 보고 싶으신가요?\n",
      "\n"
     ]
    }
   ],
   "source": [
    "# 두개의 세션을 번갈아가면서 대화\n",
    "sessions = ['user_a', 'user_b']\n",
    "questions = [\n",
    "    '안녕하세요, 저는 홍길동입니다. 당신은 누구신가요?', # user_a 첫번째 질문\n",
    "    '안녕하세요, 저는 이순신입니다. 당신은 어떤 일을 하시나요?', # user_b 첫번째 질문\n",
    "    '저는 프로그래밍을 배우고 있습니다. 당신은 어떤 일을 하시나요?', # user_a 두번째 질문\n",
    "    '저는 역사에 관심이 많습니다. 당신은 어떤 분야에 관심이 있나요?' # user_b 두번째 질문\n",
    "]\n",
    "for i, question in enumerate(questions):\n",
    "    session_id = sessions[i % 2]  # 세션 ID를 번갈아가며 사용\n",
    "    result = chatbot.invoke({'input': question}, config = {'configurable': {'session_id': session_id}})\n",
    "    print(f'[{session_id}] 질문: {question}')\n",
    "    print(f'[{session_id}] 챗봇: {result}\\n')"
   ]
  },
  {
   "cell_type": "code",
   "execution_count": 45,
   "id": "1cf56cb7",
   "metadata": {},
   "outputs": [
    {
     "name": "stdout",
     "output_type": "stream",
     "text": [
      "[user_c] 질문: \"저는 철수예요, 반갑습니다.\"\n",
      "[user_c] 챗봇: 안녕하세요, 철수님! 다시 만나서 반갑습니다. 오늘은 어떤 이야기를 나누고 싶으신가요? 궁금한 점이나 도움이 필요하신 부분이 있다면 말씀해 주세요!\n",
      "\n"
     ]
    }
   ],
   "source": [
    "result = chatbot.invoke({'input': \"저는 철수예요, 반갑습니다.\"}, config = {'configurable': {'session_id': 'user_c'}})\n",
    "print(f'[user_c] 질문: \"저는 철수예요, 반갑습니다.\"')\n",
    "print(f'[user_c] 챗봇: {result}\\n')"
   ]
  },
  {
   "cell_type": "code",
   "execution_count": 46,
   "id": "1b820172",
   "metadata": {},
   "outputs": [
    {
     "data": {
      "text/plain": [
       "'철수님이라고 하셨습니다! 맞나요? 혹시 다른 질문이나 이야기하고 싶은 것이 있으신가요? 언제든지 말씀해 주세요!'"
      ]
     },
     "execution_count": 46,
     "metadata": {},
     "output_type": "execute_result"
    }
   ],
   "source": [
    "result = chatbot.invoke({'input': \"저는 누구라고요?\"}, config = {'configurable': {'session_id': 'user_a'}})\n",
    "result\n",
    "\n",
    "result = chatbot.invoke({'input': \"저는 누구라고요?\"}, config = {'configurable': {'session_id': 'user_c'}})\n",
    "result"
   ]
  },
  {
   "cell_type": "code",
   "execution_count": null,
   "id": "96b8472d",
   "metadata": {},
   "outputs": [],
   "source": []
  }
 ],
 "metadata": {
  "kernelspec": {
   "display_name": "class_gpu",
   "language": "python",
   "name": "python3"
  },
  "language_info": {
   "codemirror_mode": {
    "name": "ipython",
    "version": 3
   },
   "file_extension": ".py",
   "mimetype": "text/x-python",
   "name": "python",
   "nbconvert_exporter": "python",
   "pygments_lexer": "ipython3",
   "version": "3.10.16"
  }
 },
 "nbformat": 4,
 "nbformat_minor": 5
}
